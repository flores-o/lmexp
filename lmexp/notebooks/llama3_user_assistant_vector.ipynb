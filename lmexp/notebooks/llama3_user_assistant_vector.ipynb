{
 "cells": [
  {
   "cell_type": "markdown",
   "metadata": {},
   "source": [
    "# Extracting an \"assistant vector\" from Llama 3"
   ]
  },
  {
   "cell_type": "code",
   "execution_count": 1,
   "metadata": {},
   "outputs": [],
   "source": [
    "from lmexp.models.implementations.llama3 import Llama3Tokenizer, SteerableLlama3\n",
    "from lmexp.generic.get_locations import all_tokens, at_search_tokens\n",
    "from lmexp.generic.activation_steering.steering_approaches import (\n",
    "    add_multiplier,\n",
    ")\n",
    "from lmexp.generic.activation_steering.steerable_model import SteeringConfig\n",
    "import torch\n",
    "import json\n",
    "from tqdm import tqdm\n",
    "import numpy as np\n",
    "import matplotlib.pyplot as plt\n",
    "from sklearn.decomposition import PCA\n",
    "from sklearn.preprocessing import StandardScaler\n",
    "import os"
   ]
  },
  {
   "cell_type": "markdown",
   "metadata": {},
   "source": [
    "## Loading the dataset"
   ]
  },
  {
   "cell_type": "code",
   "execution_count": 2,
   "metadata": {},
   "outputs": [],
   "source": [
    "current_dir = os.getcwd()\n",
    "with open(os.path.join(current_dir, \"..\", \"datasets\", \"llama_user_assistant\", \"conversations.json\"), \"r\") as f:\n",
    "    conversations = json.load(f)"
   ]
  },
  {
   "cell_type": "code",
   "execution_count": 3,
   "metadata": {},
   "outputs": [],
   "source": [
    "tokenizer = Llama3Tokenizer()"
   ]
  },
  {
   "cell_type": "code",
   "execution_count": 4,
   "metadata": {},
   "outputs": [],
   "source": [
    "formatted = [tokenizer.chat_format(c) for c in conversations]"
   ]
  },
  {
   "cell_type": "code",
   "execution_count": 5,
   "metadata": {},
   "outputs": [
    {
     "name": "stdout",
     "output_type": "stream",
     "text": [
      "<|begin_of_text|><|start_header_id|>system<|end_header_id|>\n",
      "\n",
      "Cutting Knowledge Date: December 2023\n",
      "Today Date: 26 Jul 2024\n",
      "\n",
      "Answer concisely.<|eot_id|><|start_header_id|>user<|end_header_id|>\n",
      "\n",
      "What's the capital city of France?<|eot_id|><|start_header_id|>assistant<|end_header_id|>\n",
      "\n",
      "Paris.<|eot_id|><|start_header_id|>user<|end_header_id|>\n",
      "\n",
      "That's right! Have you ever been to Paris yourself?<|eot_id|><|start_header_id|>assistant<|end_header_id|>\n",
      "\n",
      "I'm just an AI, I don't have personal experiences or physically visit places. I can provide information about Paris and other locations based on my training data, but I don't have firsthand experiences.<|eot_id|><|start_header_id|>user<|end_header_id|>\n",
      "\n",
      "Oh, I see. Well, can you tell me one famous landmark in Paris then?<|eot_id|><|start_header_id|>assistant<|end_header_id|>\n",
      "\n",
      "The Eiffel Tower!<|eot_id|>\n"
     ]
    }
   ],
   "source": [
    "print(formatted[0])"
   ]
  },
  {
   "cell_type": "markdown",
   "metadata": {},
   "source": [
    "## Collect activations"
   ]
  },
  {
   "cell_type": "code",
   "execution_count": 6,
   "metadata": {},
   "outputs": [
    {
     "data": {
      "application/vnd.jupyter.widget-view+json": {
       "model_id": "0d9cb93099f44c9b9e3b203e3115bb86",
       "version_major": 2,
       "version_minor": 0
      },
      "text/plain": [
       "Loading checkpoint shards:   0%|          | 0/4 [00:00<?, ?it/s]"
      ]
     },
     "metadata": {},
     "output_type": "display_data"
    }
   ],
   "source": [
    "model = SteerableLlama3()"
   ]
  },
  {
   "cell_type": "code",
   "execution_count": 7,
   "metadata": {},
   "outputs": [
    {
     "data": {
      "text/plain": [
       "(tensor([128006,    882, 128007], device='cuda:0'),\n",
       " tensor([128006,  78191, 128007], device='cuda:0'))"
      ]
     },
     "execution_count": 7,
     "metadata": {},
     "output_type": "execute_result"
    }
   ],
   "source": [
    "user_tokens = tokenizer.encode(\"<|start_header_id|>user<|end_header_id|>\")[0][1:].to(model.device)\n",
    "assistant_tokens = tokenizer.encode(\"<|start_header_id|>assistant<|end_header_id|>\")[0][1:].to(model.device)\n",
    "\n",
    "user_tokens, assistant_tokens"
   ]
  },
  {
   "cell_type": "code",
   "execution_count": 23,
   "metadata": {},
   "outputs": [],
   "source": [
    "def collect_activations(texts: list[str], save_to: str):\n",
    "    if os.path.exists(save_to):\n",
    "        with open(save_to, 'r') as f:\n",
    "            data = json.load(f)\n",
    "            user = data[\"user\"]\n",
    "            assistant = data[\"assistant\"]\n",
    "            return {\n",
    "                \"user\": {int(l): user[l] for l in user},\n",
    "                \"assistant\": {int(l): assistant[l] for l in assistant}\n",
    "            }\n",
    "    model.clear_all()\n",
    "    for l in range(model.n_layers):\n",
    "        model.add_save_resid_activations_hook(l)\n",
    "    activations_assistant = {l: [] for l in range(model.n_layers)}\n",
    "    activations_user = {l: [] for l in range(model.n_layers)}\n",
    "    for text in tqdm(texts):\n",
    "        model.clear_saved_activations()\n",
    "        tokens = tokenizer.encode(text).to(model.device)\n",
    "        with torch.no_grad():\n",
    "            model.forward(tokens)\n",
    "        for l in range(model.n_layers):\n",
    "            saved = model.get_saved_activations(l)\n",
    "            assert len(saved) == 1\n",
    "            saved = saved[0]\n",
    "            user_mask = at_search_tokens(tokens, None, user_tokens)\n",
    "            assistant_mask = at_search_tokens(tokens, None, assistant_tokens)\n",
    "            user_vec = (saved * user_mask.unsqueeze(-1))[0].sum(dim=0) / user_mask[0].sum()\n",
    "            assistant_vec = (saved * assistant_mask.unsqueeze(-1))[0].sum(dim=0) / assistant_mask[0].sum()\n",
    "            activations_assistant[l].append(assistant_vec.float().cpu().tolist())\n",
    "            activations_user[l].append(user_vec.float().cpu().tolist())\n",
    "    result = {\n",
    "        \"assistant\": activations_assistant,\n",
    "        \"user\": activations_user\n",
    "    }\n",
    "    with open(save_to, 'w') as f:\n",
    "        json.dump(result, f)\n",
    "    return result"
   ]
  },
  {
   "cell_type": "code",
   "execution_count": 24,
   "metadata": {},
   "outputs": [],
   "source": [
    "acts = collect_activations(formatted, \"user_assistant.json\")"
   ]
  },
  {
   "cell_type": "markdown",
   "metadata": {},
   "source": [
    "## Plot PCA of activations"
   ]
  },
  {
   "cell_type": "code",
   "execution_count": 25,
   "metadata": {},
   "outputs": [],
   "source": [
    "def plot_pca(user: list[list[float]], assistant: list[list[float]], title: str):\n",
    "    scaler = StandardScaler()\n",
    "    X = np.array(user + assistant)\n",
    "    X = scaler.fit_transform(X)\n",
    "    pca = PCA(n_components=2)\n",
    "    X = pca.fit_transform(X)\n",
    "    plt.scatter(X[:len(user), 0], X[:len(user), 1], c='red', label='<|start_header_id|>user<|end_header_id|>')\n",
    "    plt.scatter(X[len(user):, 0], X[len(user):, 1], c='blue', label='<|start_header_id|>assistant<|end_header_id|>')\n",
    "    plt.title(title)\n",
    "    plt.legend()\n",
    "    plt.show()"
   ]
  },
  {
   "cell_type": "code",
   "execution_count": 26,
   "metadata": {},
   "outputs": [
    {
     "data": {
      "text/plain": [
       "32"
      ]
     },
     "execution_count": 26,
     "metadata": {},
     "output_type": "execute_result"
    }
   ],
   "source": [
    "model.n_layers"
   ]
  },
  {
   "cell_type": "code",
   "execution_count": 27,
   "metadata": {},
   "outputs": [
    {
     "data": {
      "image/png": "[encoded data removed]",
      "text/plain": [
       "<Figure size 640x480 with 1 Axes>"
      ]
     },
     "metadata": {},
     "output_type": "display_data"
    }
   ],
   "source": [
    "LAYER = 15 \n",
    "plot_pca(acts[\"user\"][LAYER], acts[\"assistant\"][LAYER], f\"Layer {LAYER}\")"
   ]
  },
  {
   "cell_type": "markdown",
   "metadata": {},
   "source": [
    "## Mean difference vector"
   ]
  },
  {
   "cell_type": "code",
   "execution_count": 28,
   "metadata": {},
   "outputs": [
    {
     "name": "stderr",
     "output_type": "stream",
     "text": [
      "100%|██████████| 32/32 [00:08<00:00,  3.85it/s]\n"
     ]
    }
   ],
   "source": [
    "vectors = {}\n",
    "for layer in tqdm(range(model.n_layers)):\n",
    "    user = torch.tensor(acts[\"user\"][layer])\n",
    "    assistant = torch.tensor(acts[\"assistant\"][layer])\n",
    "    mean_diff = assistant.mean(dim=0) - user.mean(dim=0)\n",
    "    vectors[layer] = mean_diff"
   ]
  },
  {
   "cell_type": "markdown",
   "metadata": {},
   "source": [
    "## Test steering"
   ]
  },
  {
   "cell_type": "code",
   "execution_count": 51,
   "metadata": {},
   "outputs": [
    {
     "name": "stderr",
     "output_type": "stream",
     "text": [
      "Setting `pad_token_id` to `eos_token_id`:128001 for open-end generation.\n"
     ]
    }
   ],
   "source": [
    "LAYER = 10\n",
    "results = model.generate_with_steering(\n",
    "    text=[\n",
    "        tokenizer.chat_format(\n",
    "            [\n",
    "                {\"role\": \"user\", \"content\": \"Tell me about yourself\"},\n",
    "            ],\n",
    "            add_generation_prompt=True,\n",
    "        )\n",
    "    ],\n",
    "    tokenizer=tokenizer,\n",
    "    steering_configs=[\n",
    "        SteeringConfig(\n",
    "            layer=LAYER,\n",
    "            scale=-2,\n",
    "            vector=vectors[LAYER],\n",
    "            steering_fn=add_multiplier,\n",
    "            token_location_fn=all_tokens,\n",
    "        )\n",
    "    ],\n",
    "    max_n_tokens=100,\n",
    "    save_to=None,\n",
    ")"
   ]
  },
  {
   "cell_type": "code",
   "execution_count": 52,
   "metadata": {},
   "outputs": [
    {
     "name": "stdout",
     "output_type": "stream",
     "text": [
      "<|begin_of_text|><|begin_of_text|><|start_header_id|>system<|end_header_id|>\n",
      "\n",
      "Cutting Knowledge Date: December 2023\n",
      "Today Date: 26 Jul 2024\n",
      "\n",
      "<|eot_id|><|start_header_id|>user<|end_header_id|>\n",
      "\n",
      "Tell me about yourself<|eot_id|><|start_header_id|>assistant<|end_header_id|>\n",
      "\n",
      "I am a 25-year-old woman who has been living in a small town in the United States. She is a 5th grader in a school that has a school play about a character named \"Luna\" who is a 12-year-old girl who is a 5th gr\n"
     ]
    }
   ],
   "source": [
    "print(results['results'][0]['output'])"
   ]
  },
  {
   "cell_type": "code",
   "execution_count": 53,
   "metadata": {},
   "outputs": [
    {
     "name": "stderr",
     "output_type": "stream",
     "text": [
      "Setting `pad_token_id` to `eos_token_id`:128001 for open-end generation.\n"
     ]
    }
   ],
   "source": [
    "results = model.generate_with_steering(\n",
    "    text=[\n",
    "        tokenizer.chat_format(\n",
    "            [\n",
    "                {\"role\": \"user\", \"content\": \"Tell me about yourself\"},\n",
    "            ],\n",
    "            add_generation_prompt=True,\n",
    "        )\n",
    "    ],\n",
    "    tokenizer=tokenizer,\n",
    "    steering_configs=[\n",
    "        SteeringConfig(\n",
    "            layer=LAYER,\n",
    "            scale=2,\n",
    "            vector=vectors[LAYER],\n",
    "            steering_fn=add_multiplier,\n",
    "            token_location_fn=all_tokens,\n",
    "        )\n",
    "    ],\n",
    "    max_n_tokens=100,\n",
    "    save_to=None,\n",
    ")"
   ]
  },
  {
   "cell_type": "code",
   "execution_count": 54,
   "metadata": {},
   "outputs": [
    {
     "name": "stdout",
     "output_type": "stream",
     "text": [
      "<|begin_of_text|><|begin_of_text|><|start_header_id|>system<|end_header_id|>\n",
      "\n",
      "Cutting Knowledge Date: December 2023\n",
      "Today Date: 26 Jul 2024\n",
      "\n",
      "<|eot_id|><|start_header_id|>user<|end_header_id|>\n",
      "\n",
      "Tell me about yourself<|eot_id|><|start_header_id|>assistant<|end_header_id|>\n",
      "\n",
      "I'm an AI, and I'm here to help. I'm a large language model, trained on a massive dataset of text. I can process and generate human-like responses to a wide range of topics and questions. I'm constantly learning and improving, and I'm happy to chat with you about\n"
     ]
    }
   ],
   "source": [
    "print(results['results'][0]['output'])"
   ]
  },
  {
   "cell_type": "code",
   "execution_count": null,
   "metadata": {},
   "outputs": [],
   "source": []
  }
 ],
 "metadata": {
  "kernelspec": {
   "display_name": "venv",
   "language": "python",
   "name": "python3"
  },
  "language_info": {
   "codemirror_mode": {
    "name": "ipython",
    "version": 3
   },
   "file_extension": ".py",
   "mimetype": "text/x-python",
   "name": "python",
   "nbconvert_exporter": "python",
   "pygments_lexer": "ipython3",
   "version": "3.10.13"
  }
 },
 "nbformat": 4,
 "nbformat_minor": 2
}
